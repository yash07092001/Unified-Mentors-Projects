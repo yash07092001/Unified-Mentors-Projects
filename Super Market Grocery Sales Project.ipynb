{
 "cells": [
  {
   "cell_type": "code",
   "execution_count": 70,
   "id": "dfaf0498-3371-4201-98fb-2bd274261b2b",
   "metadata": {},
   "outputs": [],
   "source": [
    "import pandas as pd\n",
    "import numpy as np\n",
    "import matplotlib.pyplot as plt\n",
    "import seaborn as sns\n",
    "from sklearn.model_selection import train_test_split\n",
    "from sklearn.preprocessing import LabelEncoder, StandardScaler, OneHotEncoder\n",
    "from sklearn.ensemble import RandomForestRegressor\n",
    "from sklearn.metrics import mean_squared_error, r2_score\n",
    "from sklearn.compose import ColumnTransformer\n",
    "from sklearn.pipeline import Pipeline"
   ]
  },
  {
   "cell_type": "code",
   "execution_count": 6,
   "id": "b384597f-6e93-4053-bcce-f0b25e0b9150",
   "metadata": {},
   "outputs": [],
   "source": [
    "data=pd.read_csv(\"Desktop/Supermart Grocery Sales - Retail Analytics Dataset.csv\")"
   ]
  },
  {
   "cell_type": "code",
   "execution_count": 8,
   "id": "f4143608-432b-4abc-97c5-b96b168d694c",
   "metadata": {},
   "outputs": [
    {
     "name": "stdout",
     "output_type": "stream",
     "text": [
      "Order ID         0\n",
      "Customer Name    0\n",
      "Category         0\n",
      "Sub Category     0\n",
      "City             0\n",
      "Order Date       0\n",
      "Region           0\n",
      "Sales            0\n",
      "Discount         0\n",
      "Profit           0\n",
      "State            0\n",
      "dtype: int64\n"
     ]
    }
   ],
   "source": [
    "print(data.isnull().sum())\n"
   ]
  },
  {
   "cell_type": "code",
   "execution_count": 10,
   "id": "0d96ce53-98e2-4af7-97a3-c23ec1f8daec",
   "metadata": {},
   "outputs": [],
   "source": [
    "data.drop_duplicates(inplace=True)\n"
   ]
  },
  {
   "cell_type": "code",
   "execution_count": 12,
   "id": "3dce6fc1-6bac-412e-8f07-36e9ea4e7fa3",
   "metadata": {},
   "outputs": [],
   "source": [
    "data['Order Date'] = pd.to_datetime(data['Order Date'], errors='coerce')"
   ]
  },
  {
   "cell_type": "code",
   "execution_count": 127,
   "id": "0b98f446-37ec-4a1a-b987-f54733c00734",
   "metadata": {},
   "outputs": [
    {
     "name": "stdout",
     "output_type": "stream",
     "text": [
      "Remaining rows with NaT in 'Order Date':\n",
      "     Order ID Customer Name           Category       Sub Category  \\\n",
      "12       OD13        Sharon             Snacks            Cookies   \n",
      "14       OD15        Sundar  Eggs, Meat & Fish            Chicken   \n",
      "15       OD16        Ramesh       Oil & Masala  Edible Oil & Ghee   \n",
      "17       OD18        Arutra          Beverages      Health Drinks   \n",
      "18       OD19       Haseena  Eggs, Meat & Fish             Mutton   \n",
      "...       ...           ...                ...                ...   \n",
      "9985   OD9986         Shree  Eggs, Meat & Fish             Mutton   \n",
      "9987   OD9988        Ganesh   Fruits & Veggies   Fresh Vegetables   \n",
      "9989   OD9990        Sudeep  Eggs, Meat & Fish               Eggs   \n",
      "9992   OD9993          Peer       Oil & Masala             Spices   \n",
      "9993   OD9994        Ganesh        Food Grains       Atta & Flour   \n",
      "\n",
      "             City Order Date   Region  Sales  Discount  Profit       State  \n",
      "12       Dindigul        NaT    South   1659      0.19  315.21  Tamil Nadu  \n",
      "14    Kanyakumari        NaT  Central    831      0.22  207.75  Tamil Nadu  \n",
      "15    Krishnagiri        NaT  Central   1440      0.11  100.80  Tamil Nadu  \n",
      "17           Bodi        NaT     West   1617      0.19  113.19  Tamil Nadu  \n",
      "18        Tenkasi        NaT     West   1757      0.35  386.54  Tamil Nadu  \n",
      "...           ...        ...      ...    ...       ...     ...         ...  \n",
      "9985  Kanyakumari        NaT     West   1286      0.30  475.82  Tamil Nadu  \n",
      "9987        Theni        NaT     West   1350      0.15   67.50  Tamil Nadu  \n",
      "9989      Madurai        NaT     West    945      0.16  359.10  Tamil Nadu  \n",
      "9992   Pudukottai        NaT     West   1659      0.15  597.24  Tamil Nadu  \n",
      "9993  Tirunelveli        NaT     West   1034      0.28  165.44  Tamil Nadu  \n",
      "\n",
      "[5952 rows x 11 columns]\n"
     ]
    }
   ],
   "source": [
    "invalid_dates = data[data['Order Date'].isna()]\n",
    "print(\"Remaining rows with NaT in 'Order Date':\")\n",
    "print(invalid_dates)"
   ]
  },
  {
   "cell_type": "code",
   "execution_count": 14,
   "id": "4cbf88dc-ace2-4acf-96ce-ada3e21b64a5",
   "metadata": {},
   "outputs": [
    {
     "name": "stderr",
     "output_type": "stream",
     "text": [
      "C:\\Users\\ASUS\\AppData\\Local\\Temp\\ipykernel_24496\\203017440.py:2: FutureWarning: A value is trying to be set on a copy of a DataFrame or Series through chained assignment using an inplace method.\n",
      "The behavior will change in pandas 3.0. This inplace method will never work because the intermediate object on which we are setting values always behaves as a copy.\n",
      "\n",
      "For example, when doing 'df[col].method(value, inplace=True)', try using 'df.method({col: value}, inplace=True)' or df[col] = df[col].method(value) instead, to perform the operation inplace on the original object.\n",
      "\n",
      "\n",
      "  data['Order Date'].fillna(earliest_date, inplace=True)\n"
     ]
    }
   ],
   "source": [
    "earliest_date = data['Order Date'].min()\n",
    "data['Order Date'].fillna(earliest_date, inplace=True)"
   ]
  },
  {
   "cell_type": "code",
   "execution_count": 16,
   "id": "de8caa7b-6700-4c99-93fe-07ea69d3b472",
   "metadata": {},
   "outputs": [
    {
     "name": "stdout",
     "output_type": "stream",
     "text": [
      "     Order Date\n",
      "0    2017-11-08\n",
      "1    2017-11-08\n",
      "2    2017-06-12\n",
      "3    2016-10-11\n",
      "4    2016-10-11\n",
      "...         ...\n",
      "9989 2015-01-03\n",
      "9990 2015-07-12\n",
      "9991 2017-06-06\n",
      "9992 2015-01-03\n",
      "9993 2015-01-03\n",
      "\n",
      "[9994 rows x 1 columns]\n"
     ]
    }
   ],
   "source": [
    "print(data[['Order Date']])\n"
   ]
  },
  {
   "cell_type": "code",
   "execution_count": 18,
   "id": "ecdd444f-82f8-452e-a2e3-98fb196833a3",
   "metadata": {},
   "outputs": [],
   "source": [
    "data['Day'] = data['Order Date'].dt.day\n",
    "data['Month'] = data['Order Date'].dt.month\n",
    "data['Year'] = data['Order Date'].dt.year"
   ]
  },
  {
   "cell_type": "code",
   "execution_count": 20,
   "id": "2a678319-bb57-4ec6-b837-42ad1f58799f",
   "metadata": {},
   "outputs": [
    {
     "name": "stdout",
     "output_type": "stream",
     "text": [
      "     Order Date  Day  Month  Year\n",
      "0    2017-11-08    8     11  2017\n",
      "1    2017-11-08    8     11  2017\n",
      "2    2017-06-12   12      6  2017\n",
      "3    2016-10-11   11     10  2016\n",
      "4    2016-10-11   11     10  2016\n",
      "...         ...  ...    ...   ...\n",
      "9989 2015-01-03    3      1  2015\n",
      "9990 2015-07-12   12      7  2015\n",
      "9991 2017-06-06    6      6  2017\n",
      "9992 2015-01-03    3      1  2015\n",
      "9993 2015-01-03    3      1  2015\n",
      "\n",
      "[9994 rows x 4 columns]\n"
     ]
    }
   ],
   "source": [
    "print(data[['Order Date', 'Day', 'Month', 'Year']])"
   ]
  },
  {
   "cell_type": "code",
   "execution_count": 22,
   "id": "9fd21eb6-0491-47de-b74e-6512f039ff1b",
   "metadata": {},
   "outputs": [],
   "source": [
    "le = LabelEncoder()\n",
    "data['Category'] = le.fit_transform(data['Category'])\n",
    "data['Sub Category'] = le.fit_transform(data['Sub Category'])\n",
    "data['City'] = le.fit_transform(data['City'])\n",
    "data['Region'] = le.fit_transform(data['Region'])\n",
    "data['State'] = le.fit_transform(data['State'])\n"
   ]
  },
  {
   "cell_type": "code",
   "execution_count": 91,
   "id": "10845c77-2994-462e-ba5e-a45858759124",
   "metadata": {},
   "outputs": [
    {
     "name": "stdout",
     "output_type": "stream",
     "text": [
      "  Order ID Customer Name  Category  Sub Category  City Order Date  Region  \\\n",
      "0      OD1        Harish         5            14    21 2017-11-08       2   \n",
      "1      OD2         Sudha         1            13     8 2017-11-08       3   \n",
      "2      OD3       Hussain         3             0    13 2017-06-12       4   \n",
      "3      OD4       Jackson         4            12     4 2016-10-11       3   \n",
      "4      OD5       Ridhesh         3            18    12 2016-10-11       3   \n",
      "\n",
      "   Sales  Discount  Profit  ...  Month_3  Month_4  Month_5  Month_6  Month_7  \\\n",
      "0   1254      0.12  401.28  ...    False    False    False    False    False   \n",
      "1    749      0.18  149.80  ...    False    False    False    False    False   \n",
      "2   2360      0.21  165.20  ...    False    False    False     True    False   \n",
      "3    896      0.25   89.60  ...    False    False    False    False    False   \n",
      "4   2355      0.26  918.45  ...    False    False    False    False    False   \n",
      "\n",
      "   Month_8  Month_9  Month_10  Month_11  Month_12  \n",
      "0    False    False     False      True     False  \n",
      "1    False    False     False      True     False  \n",
      "2    False    False     False     False     False  \n",
      "3    False    False      True     False     False  \n",
      "4    False    False      True     False     False  \n",
      "\n",
      "[5 rows x 24 columns]\n"
     ]
    }
   ],
   "source": [
    "print(data.head(5))"
   ]
  },
  {
   "cell_type": "code",
   "execution_count": 26,
   "id": "bdfc723f-07d0-494b-b14b-4364414a8337",
   "metadata": {},
   "outputs": [
    {
     "data": {
      "text/html": [
       "<div>\n",
       "<style scoped>\n",
       "    .dataframe tbody tr th:only-of-type {\n",
       "        vertical-align: middle;\n",
       "    }\n",
       "\n",
       "    .dataframe tbody tr th {\n",
       "        vertical-align: top;\n",
       "    }\n",
       "\n",
       "    .dataframe thead th {\n",
       "        text-align: right;\n",
       "    }\n",
       "</style>\n",
       "<table border=\"1\" class=\"dataframe\">\n",
       "  <thead>\n",
       "    <tr style=\"text-align: right;\">\n",
       "      <th></th>\n",
       "      <th>Order ID</th>\n",
       "      <th>Customer Name</th>\n",
       "      <th>Category</th>\n",
       "      <th>Sub Category</th>\n",
       "      <th>City</th>\n",
       "      <th>Order Date</th>\n",
       "      <th>Region</th>\n",
       "      <th>Sales</th>\n",
       "      <th>Discount</th>\n",
       "      <th>Profit</th>\n",
       "      <th>State</th>\n",
       "      <th>Day</th>\n",
       "      <th>Month</th>\n",
       "      <th>Year</th>\n",
       "    </tr>\n",
       "  </thead>\n",
       "  <tbody>\n",
       "    <tr>\n",
       "      <th>0</th>\n",
       "      <td>OD1</td>\n",
       "      <td>Harish</td>\n",
       "      <td>5</td>\n",
       "      <td>14</td>\n",
       "      <td>21</td>\n",
       "      <td>2017-11-08</td>\n",
       "      <td>2</td>\n",
       "      <td>1254</td>\n",
       "      <td>0.12</td>\n",
       "      <td>401.28</td>\n",
       "      <td>0</td>\n",
       "      <td>8</td>\n",
       "      <td>11</td>\n",
       "      <td>2017</td>\n",
       "    </tr>\n",
       "    <tr>\n",
       "      <th>1</th>\n",
       "      <td>OD2</td>\n",
       "      <td>Sudha</td>\n",
       "      <td>1</td>\n",
       "      <td>13</td>\n",
       "      <td>8</td>\n",
       "      <td>2017-11-08</td>\n",
       "      <td>3</td>\n",
       "      <td>749</td>\n",
       "      <td>0.18</td>\n",
       "      <td>149.80</td>\n",
       "      <td>0</td>\n",
       "      <td>8</td>\n",
       "      <td>11</td>\n",
       "      <td>2017</td>\n",
       "    </tr>\n",
       "    <tr>\n",
       "      <th>2</th>\n",
       "      <td>OD3</td>\n",
       "      <td>Hussain</td>\n",
       "      <td>3</td>\n",
       "      <td>0</td>\n",
       "      <td>13</td>\n",
       "      <td>2017-06-12</td>\n",
       "      <td>4</td>\n",
       "      <td>2360</td>\n",
       "      <td>0.21</td>\n",
       "      <td>165.20</td>\n",
       "      <td>0</td>\n",
       "      <td>12</td>\n",
       "      <td>6</td>\n",
       "      <td>2017</td>\n",
       "    </tr>\n",
       "    <tr>\n",
       "      <th>3</th>\n",
       "      <td>OD4</td>\n",
       "      <td>Jackson</td>\n",
       "      <td>4</td>\n",
       "      <td>12</td>\n",
       "      <td>4</td>\n",
       "      <td>2016-10-11</td>\n",
       "      <td>3</td>\n",
       "      <td>896</td>\n",
       "      <td>0.25</td>\n",
       "      <td>89.60</td>\n",
       "      <td>0</td>\n",
       "      <td>11</td>\n",
       "      <td>10</td>\n",
       "      <td>2016</td>\n",
       "    </tr>\n",
       "    <tr>\n",
       "      <th>4</th>\n",
       "      <td>OD5</td>\n",
       "      <td>Ridhesh</td>\n",
       "      <td>3</td>\n",
       "      <td>18</td>\n",
       "      <td>12</td>\n",
       "      <td>2016-10-11</td>\n",
       "      <td>3</td>\n",
       "      <td>2355</td>\n",
       "      <td>0.26</td>\n",
       "      <td>918.45</td>\n",
       "      <td>0</td>\n",
       "      <td>11</td>\n",
       "      <td>10</td>\n",
       "      <td>2016</td>\n",
       "    </tr>\n",
       "    <tr>\n",
       "      <th>...</th>\n",
       "      <td>...</td>\n",
       "      <td>...</td>\n",
       "      <td>...</td>\n",
       "      <td>...</td>\n",
       "      <td>...</td>\n",
       "      <td>...</td>\n",
       "      <td>...</td>\n",
       "      <td>...</td>\n",
       "      <td>...</td>\n",
       "      <td>...</td>\n",
       "      <td>...</td>\n",
       "      <td>...</td>\n",
       "      <td>...</td>\n",
       "      <td>...</td>\n",
       "    </tr>\n",
       "    <tr>\n",
       "      <th>9989</th>\n",
       "      <td>OD9990</td>\n",
       "      <td>Sudeep</td>\n",
       "      <td>2</td>\n",
       "      <td>9</td>\n",
       "      <td>9</td>\n",
       "      <td>2015-01-03</td>\n",
       "      <td>4</td>\n",
       "      <td>945</td>\n",
       "      <td>0.16</td>\n",
       "      <td>359.10</td>\n",
       "      <td>0</td>\n",
       "      <td>3</td>\n",
       "      <td>1</td>\n",
       "      <td>2015</td>\n",
       "    </tr>\n",
       "    <tr>\n",
       "      <th>9990</th>\n",
       "      <td>OD9991</td>\n",
       "      <td>Alan</td>\n",
       "      <td>0</td>\n",
       "      <td>1</td>\n",
       "      <td>6</td>\n",
       "      <td>2015-07-12</td>\n",
       "      <td>4</td>\n",
       "      <td>1195</td>\n",
       "      <td>0.26</td>\n",
       "      <td>71.70</td>\n",
       "      <td>0</td>\n",
       "      <td>12</td>\n",
       "      <td>7</td>\n",
       "      <td>2015</td>\n",
       "    </tr>\n",
       "    <tr>\n",
       "      <th>9991</th>\n",
       "      <td>OD9992</td>\n",
       "      <td>Ravi</td>\n",
       "      <td>3</td>\n",
       "      <td>20</td>\n",
       "      <td>0</td>\n",
       "      <td>2017-06-06</td>\n",
       "      <td>4</td>\n",
       "      <td>1567</td>\n",
       "      <td>0.16</td>\n",
       "      <td>501.44</td>\n",
       "      <td>0</td>\n",
       "      <td>6</td>\n",
       "      <td>6</td>\n",
       "      <td>2017</td>\n",
       "    </tr>\n",
       "    <tr>\n",
       "      <th>9992</th>\n",
       "      <td>OD9993</td>\n",
       "      <td>Peer</td>\n",
       "      <td>5</td>\n",
       "      <td>22</td>\n",
       "      <td>14</td>\n",
       "      <td>2015-01-03</td>\n",
       "      <td>4</td>\n",
       "      <td>1659</td>\n",
       "      <td>0.15</td>\n",
       "      <td>597.24</td>\n",
       "      <td>0</td>\n",
       "      <td>3</td>\n",
       "      <td>1</td>\n",
       "      <td>2015</td>\n",
       "    </tr>\n",
       "    <tr>\n",
       "      <th>9993</th>\n",
       "      <td>OD9994</td>\n",
       "      <td>Ganesh</td>\n",
       "      <td>3</td>\n",
       "      <td>0</td>\n",
       "      <td>19</td>\n",
       "      <td>2015-01-03</td>\n",
       "      <td>4</td>\n",
       "      <td>1034</td>\n",
       "      <td>0.28</td>\n",
       "      <td>165.44</td>\n",
       "      <td>0</td>\n",
       "      <td>3</td>\n",
       "      <td>1</td>\n",
       "      <td>2015</td>\n",
       "    </tr>\n",
       "  </tbody>\n",
       "</table>\n",
       "<p>9994 rows × 14 columns</p>\n",
       "</div>"
      ],
      "text/plain": [
       "     Order ID Customer Name  Category  Sub Category  City Order Date  Region  \\\n",
       "0         OD1        Harish         5            14    21 2017-11-08       2   \n",
       "1         OD2         Sudha         1            13     8 2017-11-08       3   \n",
       "2         OD3       Hussain         3             0    13 2017-06-12       4   \n",
       "3         OD4       Jackson         4            12     4 2016-10-11       3   \n",
       "4         OD5       Ridhesh         3            18    12 2016-10-11       3   \n",
       "...       ...           ...       ...           ...   ...        ...     ...   \n",
       "9989   OD9990        Sudeep         2             9     9 2015-01-03       4   \n",
       "9990   OD9991          Alan         0             1     6 2015-07-12       4   \n",
       "9991   OD9992          Ravi         3            20     0 2017-06-06       4   \n",
       "9992   OD9993          Peer         5            22    14 2015-01-03       4   \n",
       "9993   OD9994        Ganesh         3             0    19 2015-01-03       4   \n",
       "\n",
       "      Sales  Discount  Profit  State  Day  Month  Year  \n",
       "0      1254      0.12  401.28      0    8     11  2017  \n",
       "1       749      0.18  149.80      0    8     11  2017  \n",
       "2      2360      0.21  165.20      0   12      6  2017  \n",
       "3       896      0.25   89.60      0   11     10  2016  \n",
       "4      2355      0.26  918.45      0   11     10  2016  \n",
       "...     ...       ...     ...    ...  ...    ...   ...  \n",
       "9989    945      0.16  359.10      0    3      1  2015  \n",
       "9990   1195      0.26   71.70      0   12      7  2015  \n",
       "9991   1567      0.16  501.44      0    6      6  2017  \n",
       "9992   1659      0.15  597.24      0    3      1  2015  \n",
       "9993   1034      0.28  165.44      0    3      1  2015  \n",
       "\n",
       "[9994 rows x 14 columns]"
      ]
     },
     "execution_count": 26,
     "metadata": {},
     "output_type": "execute_result"
    }
   ],
   "source": [
    "data"
   ]
  },
  {
   "cell_type": "code",
   "execution_count": 28,
   "id": "54803604-53d4-43b2-8542-994073cb4add",
   "metadata": {},
   "outputs": [
    {
     "data": {
      "text/plain": [
       "Order ID         0\n",
       "Customer Name    0\n",
       "Category         0\n",
       "Sub Category     0\n",
       "City             0\n",
       "Order Date       0\n",
       "Region           0\n",
       "Sales            0\n",
       "Discount         0\n",
       "Profit           0\n",
       "State            0\n",
       "Day              0\n",
       "Month            0\n",
       "Year             0\n",
       "dtype: int64"
      ]
     },
     "execution_count": 28,
     "metadata": {},
     "output_type": "execute_result"
    }
   ],
   "source": [
    "data.isnull().sum()"
   ]
  },
  {
   "cell_type": "code",
   "execution_count": 30,
   "id": "11285354-e10e-4139-8b84-924708796d4b",
   "metadata": {},
   "outputs": [
    {
     "name": "stderr",
     "output_type": "stream",
     "text": [
      "C:\\Users\\ASUS\\AppData\\Local\\Temp\\ipykernel_24496\\1934269867.py:2: FutureWarning: \n",
      "\n",
      "Passing `palette` without assigning `hue` is deprecated and will be removed in v0.14.0. Assign the `x` variable to `hue` and set `legend=False` for the same effect.\n",
      "\n",
      "  sns.boxplot(x='Category', y='Sales', data=data, palette='Set2')\n"
     ]
    },
    {
     "data": {
      "image/png": "[encoded data removed]",
      "text/plain": [
       "<Figure size 800x400 with 1 Axes>"
      ]
     },
     "metadata": {},
     "output_type": "display_data"
    }
   ],
   "source": [
    "plt.figure(figsize=(8, 4))\n",
    "sns.boxplot(x='Category', y='Sales', data=data, palette='Set2')\n",
    "plt.title('Sales Distribution by Category')\n",
    "plt.xlabel('Category')\n",
    "plt.ylabel('Sales')\n",
    "plt.show()"
   ]
  },
  {
   "cell_type": "code",
   "execution_count": 32,
   "id": "90cd7ebc-38df-4e22-9436-cea8e2a1d911",
   "metadata": {},
   "outputs": [
    {
     "data": {
      "image/png": "[encoded data removed]",
      "text/plain": [
       "<Figure size 1200x600 with 1 Axes>"
      ]
     },
     "metadata": {},
     "output_type": "display_data"
    }
   ],
   "source": [
    "plt.figure(figsize=(12, 6))\n",
    "data.groupby('Order Date')['Sales'].sum().plot()\n",
    "plt.title('Total Sales Over Time')\n",
    "plt.xlabel('Date')\n",
    "plt.ylabel('Total Sales')\n",
    "plt.show()"
   ]
  },
  {
   "cell_type": "code",
   "execution_count": 93,
   "id": "6917f28c-3159-4e45-8fbc-64ba9f85138a",
   "metadata": {},
   "outputs": [],
   "source": [
    "features = data.drop(columns=['Order ID', 'Customer Name',\n",
    "'Order Date', 'Sales', ])\n",
    "target = data['Sales']"
   ]
  },
  {
   "cell_type": "code",
   "execution_count": 95,
   "id": "64db7a5a-5dbf-432c-84d5-7a70acc8329f",
   "metadata": {},
   "outputs": [],
   "source": [
    "X_train, X_test, y_train, y_test = train_test_split(features,\n",
    "target, test_size=0.2, random_state=42)"
   ]
  },
  {
   "cell_type": "code",
   "execution_count": 97,
   "id": "cebd5ed5-402e-4f76-a87b-08c5847a6ef2",
   "metadata": {},
   "outputs": [],
   "source": [
    "scaler = StandardScaler()\n",
    "X_train = scaler.fit_transform(X_train)\n",
    "X_test = scaler.transform(X_test)"
   ]
  },
  {
   "cell_type": "code",
   "execution_count": 99,
   "id": "332be5d4-f953-483a-9a81-2ab46583edf3",
   "metadata": {},
   "outputs": [],
   "source": [
    "model = LinearRegression()\n",
    "model.fit(X_train, y_train)\n",
    "y_pred = model.predict(X_test)\n"
   ]
  },
  {
   "cell_type": "code",
   "execution_count": 101,
   "id": "2592be76-ea5e-4376-b590-b8845e3ac775",
   "metadata": {},
   "outputs": [
    {
     "name": "stdout",
     "output_type": "stream",
     "text": [
      "Mean Squared Error: 212959.04918262517\n",
      "R-squared: 0.3543107141770102\n"
     ]
    }
   ],
   "source": [
    "mse = mean_squared_error(y_test, y_pred)\n",
    "r2 = r2_score(y_test, y_pred)\n",
    "print(f'Mean Squared Error: {mse}')\n",
    "print(f'R-squared: {r2}')"
   ]
  },
  {
   "cell_type": "code",
   "execution_count": null,
   "id": "b1138955-70e9-4331-b9ce-c4f4135a8ef0",
   "metadata": {},
   "outputs": [],
   "source": []
  },
  {
   "cell_type": "code",
   "execution_count": null,
   "id": "dfb719cb-7b90-49d1-aa59-2419190a9f05",
   "metadata": {},
   "outputs": [],
   "source": []
  }
 ],
 "metadata": {
  "kernelspec": {
   "display_name": "Python 3 (ipykernel)",
   "language": "python",
   "name": "python3"
  },
  "language_info": {
   "codemirror_mode": {
    "name": "ipython",
    "version": 3
   },
   "file_extension": ".py",
   "mimetype": "text/x-python",
   "name": "python",
   "nbconvert_exporter": "python",
   "pygments_lexer": "ipython3",
   "version": "3.12.4"
  }
 },
 "nbformat": 4,
 "nbformat_minor": 5
}
